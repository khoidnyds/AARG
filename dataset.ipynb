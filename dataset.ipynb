{
 "cells": [
  {
   "cell_type": "code",
   "execution_count": 4,
   "metadata": {},
   "outputs": [],
   "source": [
    "from spektral.data import Dataset, Graph\n",
    "import numpy as np\n",
    "import pandas as pd\n",
    "from pathlib import Path"
   ]
  },
  {
   "cell_type": "code",
   "execution_count": null,
   "metadata": {},
   "outputs": [],
   "source": [
    "class MyDataset(Dataset):\n",
    "    \"\"\"\n",
    "    A dataset of five random graphs.\n",
    "    \"\"\"\n",
    "    def __init__(self, nodes, feats, **kwargs):\n",
    "        self.nodes = nodes\n",
    "        self.feats = feats\n",
    "\n",
    "        super().__init__(**kwargs)\n",
    "\n",
    "    def read(self):\n",
    "        # We must return a list of Graph objects\n",
    "        path_node_features = \"\"\n",
    "        path_adj_matrix = \"S_AUREUS/1280.protein.physical.links.v11.5.txt\"\n",
    "        path_node_labels = \"\"\n",
    "        graph = Graph(pd.DataFrame(path_node_features), pd.DataFrame(path_adj_matrix), None, pd.DataFrame(path_node_labels))\n",
    "\n",
    "        return graph"
   ]
  },
  {
   "cell_type": "code",
   "execution_count": null,
   "metadata": {},
   "outputs": [],
   "source": []
  }
 ],
 "metadata": {
  "interpreter": {
   "hash": "2febf2845efda83c294677339c2eeb44b50493e3bfe5561528ecd6f545f6cf92"
  },
  "kernelspec": {
   "display_name": "Python 3.10.4 ('gnn')",
   "language": "python",
   "name": "python3"
  },
  "language_info": {
   "codemirror_mode": {
    "name": "ipython",
    "version": 3
   },
   "file_extension": ".py",
   "mimetype": "text/x-python",
   "name": "python",
   "nbconvert_exporter": "python",
   "pygments_lexer": "ipython3",
   "version": "3.10.4"
  },
  "orig_nbformat": 4
 },
 "nbformat": 4,
 "nbformat_minor": 2
}
