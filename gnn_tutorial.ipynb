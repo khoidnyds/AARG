{
 "cells": [
  {
   "cell_type": "code",
   "execution_count": 18,
   "metadata": {},
   "outputs": [],
   "source": [
    "#importing dependencies\n",
    "\n",
    "import numpy as np\n",
    "import os\n",
    "import networkx as nx\n",
    "from tensorflow.keras.utils import to_categorical\n",
    "from sklearn.preprocessing import LabelEncoder\n",
    "from sklearn.utils import shuffle\n",
    "from sklearn.metrics import classification_report\n",
    "\n",
    "from spektral.layers import GCNConv\n",
    "\n",
    "from tensorflow.keras.models import Model\n",
    "from tensorflow.keras.layers import Input, Dropout, Dense\n",
    "from tensorflow.keras import Sequential\n",
    "from tensorflow.keras.optimizers import Adam\n",
    "from tensorflow.keras.callbacks import TensorBoard, EarlyStopping\n",
    "import tensorflow as tf\n",
    "from tensorflow.keras.regularizers import l2\n",
    "\n",
    "from collections import Counter\n",
    "from sklearn.manifold import TSNE\n",
    "import matplotlib.pyplot as plt"
   ]
  },
  {
   "cell_type": "code",
   "execution_count": 7,
   "metadata": {},
   "outputs": [],
   "source": [
    "\n",
    "all_data = []\n",
    "all_edges = []\n",
    "\n",
    "for root,dirs,files in os.walk('./cora'):\n",
    "    for file in files:\n",
    "        if '.content' in file:\n",
    "            with open(os.path.join(root,file),'r') as f:\n",
    "                all_data.extend(f.read().splitlines())\n",
    "        elif 'cites' in file:\n",
    "            with open(os.path.join(root,file),'r') as f:\n",
    "                all_edges.extend(f.read().splitlines())\n",
    "\n",
    "                \n",
    "#Shuffle the data because the raw data is ordered based on the label\n",
    "random_state = 77\n",
    "all_data = shuffle(all_data,random_state=random_state)"
   ]
  },
  {
   "cell_type": "code",
   "execution_count": 9,
   "metadata": {},
   "outputs": [
    {
     "name": "stdout",
     "output_type": "stream",
     "text": [
      "X shape:  (2708, 1433)\n",
      "\n",
      "Number of nodes (N):  2708\n",
      "\n",
      "Number of features (F) of each node:  1433\n",
      "\n",
      "Categories:  {'Genetic_Algorithms', 'Rule_Learning', 'Theory', 'Neural_Networks', 'Case_Based', 'Reinforcement_Learning', 'Probabilistic_Methods'}\n",
      "\n",
      "Number of classes:  7\n"
     ]
    }
   ],
   "source": [
    "#parse the data\n",
    "labels = []\n",
    "nodes = []\n",
    "X = []\n",
    "\n",
    "for i,data in enumerate(all_data):\n",
    "    elements = data.split('\\t')\n",
    "    labels.append(elements[-1])\n",
    "    X.append(elements[1:-1])\n",
    "    nodes.append(elements[0])\n",
    "\n",
    "X = np.array(X,dtype=int) # adjacency matrix\n",
    "N = X.shape[0] # the number of nodes\n",
    "F = X.shape[1] # the size of node features\n",
    "print('X shape: ', X.shape)\n",
    "\n",
    "\n",
    "#parse the edge\n",
    "edge_list=[]\n",
    "for edge in all_edges:\n",
    "    e = edge.split('\\t')\n",
    "    edge_list.append((e[0],e[1]))\n",
    "\n",
    "print('\\nNumber of nodes (N): ', N)\n",
    "print('\\nNumber of features (F) of each node: ', F)\n",
    "print('\\nCategories: ', set(labels))\n",
    "\n",
    "num_classes = len(set(labels))\n",
    "print('\\nNumber of classes: ', num_classes)"
   ]
  },
  {
   "cell_type": "code",
   "execution_count": 10,
   "metadata": {},
   "outputs": [],
   "source": [
    "def limit_data(labels,limit=20,val_num=500,test_num=1000):\n",
    "    '''\n",
    "    Get the index of train, validation, and test data\n",
    "    '''\n",
    "    label_counter = dict((l, 0) for l in labels)\n",
    "    train_idx = []\n",
    "\n",
    "    for i in range(len(labels)):\n",
    "        label = labels[i]\n",
    "        if label_counter[label]<limit:\n",
    "            #add the example to the training data\n",
    "            train_idx.append(i)\n",
    "            label_counter[label]+=1\n",
    "        \n",
    "        #exit the loop once we found 20 examples for each class\n",
    "        if all(count == limit for count in label_counter.values()):\n",
    "            break\n",
    "    \n",
    "    #get the indices that do not go to traning data\n",
    "    rest_idx = [x for x in range(len(labels)) if x not in train_idx]\n",
    "    #get the first val_num\n",
    "    val_idx = rest_idx[:val_num]\n",
    "    test_idx = rest_idx[val_num:(val_num+test_num)]\n",
    "    return train_idx, val_idx,test_idx\n",
    "\n",
    "\n",
    "train_idx,val_idx,test_idx = limit_data(labels)"
   ]
  },
  {
   "cell_type": "code",
   "execution_count": 11,
   "metadata": {},
   "outputs": [],
   "source": [
    "#set the mask\n",
    "train_mask = np.zeros((N,),dtype=bool)\n",
    "train_mask[train_idx] = True\n",
    "\n",
    "val_mask = np.zeros((N,),dtype=bool)\n",
    "val_mask[val_idx] = True\n",
    "\n",
    "test_mask = np.zeros((N,),dtype=bool)\n",
    "test_mask[test_idx] = True"
   ]
  },
  {
   "cell_type": "code",
   "execution_count": 12,
   "metadata": {},
   "outputs": [
    {
     "name": "stdout",
     "output_type": "stream",
     "text": [
      "All Data Distribution: \n",
      "Counter({'Neural_Networks': 818, 'Probabilistic_Methods': 426, 'Genetic_Algorithms': 418, 'Theory': 351, 'Case_Based': 298, 'Reinforcement_Learning': 217, 'Rule_Learning': 180})\n"
     ]
    }
   ],
   "source": [
    "print(\"All Data Distribution: \\n{}\".format(Counter(labels)))"
   ]
  },
  {
   "cell_type": "code",
   "execution_count": 13,
   "metadata": {},
   "outputs": [
    {
     "name": "stdout",
     "output_type": "stream",
     "text": [
      "Training Data Distribution: \n",
      "Counter({'Reinforcement_Learning': 20, 'Probabilistic_Methods': 20, 'Neural_Networks': 20, 'Case_Based': 20, 'Theory': 20, 'Genetic_Algorithms': 20, 'Rule_Learning': 20})\n"
     ]
    }
   ],
   "source": [
    "print(\"Training Data Distribution: \\n{}\".format(Counter([labels[i] for i in train_idx])))"
   ]
  },
  {
   "cell_type": "code",
   "execution_count": 14,
   "metadata": {},
   "outputs": [
    {
     "name": "stdout",
     "output_type": "stream",
     "text": [
      "Validation Data Distribution: \n",
      "Counter({'Neural_Networks': 172, 'Genetic_Algorithms': 78, 'Probabilistic_Methods': 72, 'Theory': 63, 'Case_Based': 58, 'Reinforcement_Learning': 35, 'Rule_Learning': 22})\n"
     ]
    }
   ],
   "source": [
    "print(\"Validation Data Distribution: \\n{}\".format(Counter([labels[i] for i in val_idx])))"
   ]
  },
  {
   "cell_type": "code",
   "execution_count": 15,
   "metadata": {},
   "outputs": [],
   "source": [
    "def encode_label(labels):\n",
    "    label_encoder = LabelEncoder()\n",
    "    labels = label_encoder.fit_transform(labels)\n",
    "    labels = to_categorical(labels)\n",
    "    return labels, label_encoder.classes_\n",
    "\n",
    "labels_encoded, classes = encode_label(labels)"
   ]
  },
  {
   "cell_type": "code",
   "execution_count": 16,
   "metadata": {},
   "outputs": [
    {
     "name": "stdout",
     "output_type": "stream",
     "text": [
      "Graph info:  Name: \n",
      "Type: Graph\n",
      "Number of nodes: 2708\n",
      "Number of edges: 5278\n",
      "Average degree:   3.8981\n"
     ]
    }
   ],
   "source": [
    "#build the graph\n",
    "G = nx.Graph()\n",
    "G.add_nodes_from(nodes)\n",
    "G.add_edges_from(edge_list)\n",
    "\n",
    "#obtain the adjacency matrix (A)\n",
    "A = nx.adjacency_matrix(G)\n",
    "print('Graph info: ', nx.info(G))"
   ]
  },
  {
   "cell_type": "code",
   "execution_count": 41,
   "metadata": {},
   "outputs": [
    {
     "name": "stdout",
     "output_type": "stream",
     "text": [
      "Model: \"model_2\"\n",
      "__________________________________________________________________________________________________\n",
      " Layer (type)                   Output Shape         Param #     Connected to                     \n",
      "==================================================================================================\n",
      " input_3 (InputLayer)           [(None, 1433)]       0           []                               \n",
      "                                                                                                  \n",
      " dropout_2 (Dropout)            (None, 1433)         0           ['input_3[0][0]']                \n",
      "                                                                                                  \n",
      " input_4 (InputLayer)           [(None, 2708)]       0           []                               \n",
      "                                                                                                  \n",
      " gcn_conv_2 (GCNConv)           (None, 16)           22928       ['dropout_2[0][0]',              \n",
      "                                                                  'input_4[0][0]']                \n",
      "                                                                                                  \n",
      " dropout_3 (Dropout)            (None, 16)           0           ['gcn_conv_2[0][0]']             \n",
      "                                                                                                  \n",
      " gcn_conv_3 (GCNConv)           (None, 7)            112         ['dropout_3[0][0]',              \n",
      "                                                                  'input_4[0][0]']                \n",
      "                                                                                                  \n",
      "==================================================================================================\n",
      "Total params: 23,040\n",
      "Trainable params: 23,040\n",
      "Non-trainable params: 0\n",
      "__________________________________________________________________________________________________\n"
     ]
    },
    {
     "name": "stderr",
     "output_type": "stream",
     "text": [
      "/home/khoidnyds/miniconda3/envs/gnn/lib/python3.10/site-packages/keras/optimizer_v2/adam.py:105: UserWarning: The `lr` argument is deprecated, use `learning_rate` instead.\n",
      "  super(Adam, self).__init__(name, **kwargs)\n"
     ]
    }
   ],
   "source": [
    "# Parameters\n",
    "channels = 16           # Number of channels in the first layer\n",
    "dropout = 0.5           # Dropout rate for the features\n",
    "l2_reg = 5e-4           # L2 regularization rate\n",
    "learning_rate = 1e-2    # Learning rate\n",
    "epochs = 200            # Number of training epochs\n",
    "es_patience = 10        # Patience for early stopping\n",
    "\n",
    "# Preprocessing operations\n",
    "A = GCNConv.preprocess(A).astype('f4')\n",
    "\n",
    "# Model definition\n",
    "X_in = Input(shape=(F, ))\n",
    "fltr_in = Input((N, ), sparse=True)\n",
    "\n",
    "dropout_1 = Dropout(dropout)(X_in)\n",
    "graph_conv_1 = GCNConv(channels,\n",
    "                         activation='relu',\n",
    "                         kernel_regularizer=l2(l2_reg),\n",
    "                         use_bias=False)([dropout_1, fltr_in])\n",
    "\n",
    "dropout_2 = Dropout(dropout)(graph_conv_1)\n",
    "graph_conv_2 = GCNConv(num_classes,\n",
    "                         activation='softmax',\n",
    "                         use_bias=False)([dropout_2, fltr_in])\n",
    "\n",
    "# Build model\n",
    "model = Model(inputs=[X_in, fltr_in], outputs=graph_conv_2)\n",
    "optimizer = Adam(lr=learning_rate)\n",
    "model.compile(optimizer=optimizer,\n",
    "              loss='categorical_crossentropy',\n",
    "              weighted_metrics=['acc'])\n",
    "model.summary()\n",
    "\n",
    "tbCallBack_GCN = tf.keras.callbacks.TensorBoard(\n",
    "    log_dir='./Tensorboard_GCN_cora',\n",
    ")\n",
    "callback_GCN = [tbCallBack_GCN]\n",
    "\n"
   ]
  },
  {
   "cell_type": "code",
   "execution_count": 29,
   "metadata": {},
   "outputs": [
    {
     "data": {
      "text/plain": [
       "(2708, 1433)"
      ]
     },
     "execution_count": 29,
     "metadata": {},
     "output_type": "execute_result"
    }
   ],
   "source": [
    "X.shape"
   ]
  },
  {
   "cell_type": "code",
   "execution_count": 32,
   "metadata": {},
   "outputs": [
    {
     "data": {
      "text/plain": [
       "(2708, 7)"
      ]
     },
     "execution_count": 32,
     "metadata": {},
     "output_type": "execute_result"
    }
   ],
   "source": [
    "labels_encoded.shape"
   ]
  },
  {
   "cell_type": "code",
   "execution_count": 30,
   "metadata": {},
   "outputs": [
    {
     "data": {
      "text/plain": [
       "(2708, 2708)"
      ]
     },
     "execution_count": 30,
     "metadata": {},
     "output_type": "execute_result"
    }
   ],
   "source": [
    "A.shape"
   ]
  },
  {
   "cell_type": "code",
   "execution_count": 34,
   "metadata": {},
   "outputs": [
    {
     "data": {
      "text/plain": [
       "(2708,)"
      ]
     },
     "execution_count": 34,
     "metadata": {},
     "output_type": "execute_result"
    }
   ],
   "source": [
    "val_mask.shape"
   ]
  },
  {
   "cell_type": "code",
   "execution_count": 35,
   "metadata": {},
   "outputs": [
    {
     "data": {
      "text/plain": [
       "(2708,)"
      ]
     },
     "execution_count": 35,
     "metadata": {},
     "output_type": "execute_result"
    }
   ],
   "source": [
    "train_mask.shape"
   ]
  },
  {
   "cell_type": "code",
   "execution_count": 36,
   "metadata": {},
   "outputs": [
    {
     "data": {
      "text/plain": [
       "2708"
      ]
     },
     "execution_count": 36,
     "metadata": {},
     "output_type": "execute_result"
    }
   ],
   "source": [
    "N"
   ]
  },
  {
   "cell_type": "code",
   "execution_count": 37,
   "metadata": {},
   "outputs": [
    {
     "name": "stdout",
     "output_type": "stream",
     "text": [
      "Epoch 1/200\n",
      "1/1 [==============================] - 1s 599ms/step - loss: 0.0307 - acc: 0.9714 - val_loss: 0.1514 - val_acc: 0.7880\n",
      "Epoch 2/200\n",
      "1/1 [==============================] - 0s 118ms/step - loss: 0.0328 - acc: 0.9571 - val_loss: 0.1523 - val_acc: 0.7860\n",
      "Epoch 3/200\n",
      "1/1 [==============================] - 0s 110ms/step - loss: 0.0312 - acc: 0.9714 - val_loss: 0.1528 - val_acc: 0.7900\n",
      "Epoch 4/200\n",
      "1/1 [==============================] - 0s 141ms/step - loss: 0.0300 - acc: 0.9500 - val_loss: 0.1533 - val_acc: 0.7900\n",
      "Epoch 5/200\n",
      "1/1 [==============================] - 0s 111ms/step - loss: 0.0322 - acc: 0.9500 - val_loss: 0.1533 - val_acc: 0.7860\n",
      "Epoch 6/200\n",
      "1/1 [==============================] - 0s 113ms/step - loss: 0.0303 - acc: 0.9571 - val_loss: 0.1536 - val_acc: 0.7840\n",
      "Epoch 7/200\n",
      "1/1 [==============================] - 0s 167ms/step - loss: 0.0301 - acc: 0.9500 - val_loss: 0.1536 - val_acc: 0.7860\n",
      "Epoch 8/200\n",
      "1/1 [==============================] - 0s 126ms/step - loss: 0.0315 - acc: 0.9643 - val_loss: 0.1519 - val_acc: 0.7860\n",
      "Epoch 9/200\n",
      "1/1 [==============================] - 0s 113ms/step - loss: 0.0292 - acc: 0.9571 - val_loss: 0.1494 - val_acc: 0.7920\n",
      "Epoch 10/200\n",
      "1/1 [==============================] - 0s 108ms/step - loss: 0.0288 - acc: 0.9786 - val_loss: 0.1475 - val_acc: 0.7900\n",
      "Epoch 11/200\n",
      "1/1 [==============================] - 0s 108ms/step - loss: 0.0327 - acc: 0.9714 - val_loss: 0.1465 - val_acc: 0.7920\n",
      "Epoch 12/200\n",
      "1/1 [==============================] - 0s 106ms/step - loss: 0.0288 - acc: 0.9786 - val_loss: 0.1467 - val_acc: 0.7920\n",
      "Epoch 13/200\n",
      "1/1 [==============================] - 0s 149ms/step - loss: 0.0311 - acc: 0.9500 - val_loss: 0.1480 - val_acc: 0.7920\n",
      "Epoch 14/200\n",
      "1/1 [==============================] - 0s 128ms/step - loss: 0.0324 - acc: 0.9643 - val_loss: 0.1494 - val_acc: 0.7940\n",
      "Epoch 15/200\n",
      "1/1 [==============================] - 0s 238ms/step - loss: 0.0309 - acc: 0.9714 - val_loss: 0.1510 - val_acc: 0.7860\n",
      "Epoch 16/200\n",
      "1/1 [==============================] - 0s 107ms/step - loss: 0.0316 - acc: 0.9571 - val_loss: 0.1525 - val_acc: 0.7860\n",
      "Epoch 17/200\n",
      "1/1 [==============================] - 0s 139ms/step - loss: 0.0292 - acc: 0.9714 - val_loss: 0.1542 - val_acc: 0.7860\n",
      "Epoch 18/200\n",
      "1/1 [==============================] - 0s 116ms/step - loss: 0.0303 - acc: 0.9786 - val_loss: 0.1551 - val_acc: 0.7820\n",
      "Epoch 19/200\n",
      "1/1 [==============================] - 0s 145ms/step - loss: 0.0312 - acc: 0.9571 - val_loss: 0.1541 - val_acc: 0.7800\n",
      "Epoch 20/200\n",
      "1/1 [==============================] - 0s 104ms/step - loss: 0.0293 - acc: 0.9714 - val_loss: 0.1521 - val_acc: 0.7760\n",
      "Epoch 21/200\n",
      "1/1 [==============================] - 0s 114ms/step - loss: 0.0287 - acc: 0.9857 - val_loss: 0.1502 - val_acc: 0.7840\n"
     ]
    },
    {
     "data": {
      "text/plain": [
       "<keras.callbacks.History at 0x2aafb4376110>"
      ]
     },
     "execution_count": 37,
     "metadata": {},
     "output_type": "execute_result"
    }
   ],
   "source": [
    "# Train model\n",
    "validation_data = ([X, A], labels_encoded, val_mask)\n",
    "model.fit([X, A], labels_encoded, sample_weight=train_mask,\n",
    "          epochs=epochs,\n",
    "          batch_size=N,\n",
    "          validation_data=validation_data,\n",
    "          shuffle=False,\n",
    "          callbacks=[\n",
    "              EarlyStopping(patience=es_patience,  restore_best_weights=True),\n",
    "              tbCallBack_GCN\n",
    "          ])"
   ]
  },
  {
   "cell_type": "code",
   "execution_count": 22,
   "metadata": {},
   "outputs": [
    {
     "ename": "ValueError",
     "evalue": "in user code:\n\n    File \"/home/khoidnyds/miniconda3/envs/gnn/lib/python3.10/site-packages/keras/engine/training.py\", line 1801, in predict_function  *\n        return step_function(self, iterator)\n    File \"/home/khoidnyds/miniconda3/envs/gnn/lib/python3.10/site-packages/keras/engine/training.py\", line 1790, in step_function  **\n        outputs = model.distribute_strategy.run(run_step, args=(data,))\n    File \"/home/khoidnyds/miniconda3/envs/gnn/lib/python3.10/site-packages/keras/engine/training.py\", line 1783, in run_step  **\n        outputs = model.predict_step(data)\n    File \"/home/khoidnyds/miniconda3/envs/gnn/lib/python3.10/site-packages/keras/engine/training.py\", line 1751, in predict_step\n        return self(x, training=False)\n    File \"/home/khoidnyds/miniconda3/envs/gnn/lib/python3.10/site-packages/keras/utils/traceback_utils.py\", line 67, in error_handler\n        raise e.with_traceback(filtered_tb) from None\n    File \"/home/khoidnyds/miniconda3/envs/gnn/lib/python3.10/site-packages/keras/engine/input_spec.py\", line 264, in assert_input_compatibility\n        raise ValueError(f'Input {input_index} of layer \"{layer_name}\" is '\n\n    ValueError: Input 1 of layer \"model\" is incompatible with the layer: expected shape=(None, 2708), found shape=(None, 1000)\n",
     "output_type": "error",
     "traceback": [
      "\u001b[0;31m---------------------------------------------------------------------------\u001b[0m",
      "\u001b[0;31mValueError\u001b[0m                                Traceback (most recent call last)",
      "\u001b[1;32m/projects/aipmm/group1/gnn_tutorial.ipynb Cell 13'\u001b[0m in \u001b[0;36m<cell line: 6>\u001b[0;34m()\u001b[0m\n\u001b[1;32m      <a href='vscode-notebook-cell://ssh-remote%2Btinkercliffs1.arc.vt.edu/projects/aipmm/group1/gnn_tutorial.ipynb#ch0000012vscode-remote?line=2'>3</a>\u001b[0m A_te \u001b[39m=\u001b[39m A[test_mask,:][:,test_mask]\n\u001b[1;32m      <a href='vscode-notebook-cell://ssh-remote%2Btinkercliffs1.arc.vt.edu/projects/aipmm/group1/gnn_tutorial.ipynb#ch0000012vscode-remote?line=3'>4</a>\u001b[0m y_te \u001b[39m=\u001b[39m labels_encoded[test_mask]\n\u001b[0;32m----> <a href='vscode-notebook-cell://ssh-remote%2Btinkercliffs1.arc.vt.edu/projects/aipmm/group1/gnn_tutorial.ipynb#ch0000012vscode-remote?line=5'>6</a>\u001b[0m y_pred \u001b[39m=\u001b[39m model\u001b[39m.\u001b[39;49mpredict([X_te, A_te], batch_size\u001b[39m=\u001b[39;49mN)\n\u001b[1;32m      <a href='vscode-notebook-cell://ssh-remote%2Btinkercliffs1.arc.vt.edu/projects/aipmm/group1/gnn_tutorial.ipynb#ch0000012vscode-remote?line=6'>7</a>\u001b[0m report \u001b[39m=\u001b[39m classification_report(np\u001b[39m.\u001b[39margmax(y_te,axis\u001b[39m=\u001b[39m\u001b[39m1\u001b[39m), np\u001b[39m.\u001b[39margmax(y_pred,axis\u001b[39m=\u001b[39m\u001b[39m1\u001b[39m), target_names\u001b[39m=\u001b[39mclasses)\n\u001b[1;32m      <a href='vscode-notebook-cell://ssh-remote%2Btinkercliffs1.arc.vt.edu/projects/aipmm/group1/gnn_tutorial.ipynb#ch0000012vscode-remote?line=7'>8</a>\u001b[0m \u001b[39mprint\u001b[39m(\u001b[39m'\u001b[39m\u001b[39mGCN Classification Report: \u001b[39m\u001b[39m\\n\u001b[39;00m\u001b[39m \u001b[39m\u001b[39m{}\u001b[39;00m\u001b[39m'\u001b[39m\u001b[39m.\u001b[39mformat(report))\n",
      "File \u001b[0;32m~/miniconda3/envs/gnn/lib/python3.10/site-packages/keras/utils/traceback_utils.py:67\u001b[0m, in \u001b[0;36mfilter_traceback.<locals>.error_handler\u001b[0;34m(*args, **kwargs)\u001b[0m\n\u001b[1;32m     <a href='file:///home/khoidnyds/miniconda3/envs/gnn/lib/python3.10/site-packages/keras/utils/traceback_utils.py?line=64'>65</a>\u001b[0m \u001b[39mexcept\u001b[39;00m \u001b[39mException\u001b[39;00m \u001b[39mas\u001b[39;00m e:  \u001b[39m# pylint: disable=broad-except\u001b[39;00m\n\u001b[1;32m     <a href='file:///home/khoidnyds/miniconda3/envs/gnn/lib/python3.10/site-packages/keras/utils/traceback_utils.py?line=65'>66</a>\u001b[0m   filtered_tb \u001b[39m=\u001b[39m _process_traceback_frames(e\u001b[39m.\u001b[39m__traceback__)\n\u001b[0;32m---> <a href='file:///home/khoidnyds/miniconda3/envs/gnn/lib/python3.10/site-packages/keras/utils/traceback_utils.py?line=66'>67</a>\u001b[0m   \u001b[39mraise\u001b[39;00m e\u001b[39m.\u001b[39mwith_traceback(filtered_tb) \u001b[39mfrom\u001b[39;00m \u001b[39mNone\u001b[39m\n\u001b[1;32m     <a href='file:///home/khoidnyds/miniconda3/envs/gnn/lib/python3.10/site-packages/keras/utils/traceback_utils.py?line=67'>68</a>\u001b[0m \u001b[39mfinally\u001b[39;00m:\n\u001b[1;32m     <a href='file:///home/khoidnyds/miniconda3/envs/gnn/lib/python3.10/site-packages/keras/utils/traceback_utils.py?line=68'>69</a>\u001b[0m   \u001b[39mdel\u001b[39;00m filtered_tb\n",
      "File \u001b[0;32m~/miniconda3/envs/gnn/lib/python3.10/site-packages/tensorflow/python/framework/func_graph.py:1147\u001b[0m, in \u001b[0;36mfunc_graph_from_py_func.<locals>.autograph_handler\u001b[0;34m(*args, **kwargs)\u001b[0m\n\u001b[1;32m   <a href='file:///home/khoidnyds/miniconda3/envs/gnn/lib/python3.10/site-packages/tensorflow/python/framework/func_graph.py?line=1144'>1145</a>\u001b[0m \u001b[39mexcept\u001b[39;00m \u001b[39mException\u001b[39;00m \u001b[39mas\u001b[39;00m e:  \u001b[39m# pylint:disable=broad-except\u001b[39;00m\n\u001b[1;32m   <a href='file:///home/khoidnyds/miniconda3/envs/gnn/lib/python3.10/site-packages/tensorflow/python/framework/func_graph.py?line=1145'>1146</a>\u001b[0m   \u001b[39mif\u001b[39;00m \u001b[39mhasattr\u001b[39m(e, \u001b[39m\"\u001b[39m\u001b[39mag_error_metadata\u001b[39m\u001b[39m\"\u001b[39m):\n\u001b[0;32m-> <a href='file:///home/khoidnyds/miniconda3/envs/gnn/lib/python3.10/site-packages/tensorflow/python/framework/func_graph.py?line=1146'>1147</a>\u001b[0m     \u001b[39mraise\u001b[39;00m e\u001b[39m.\u001b[39mag_error_metadata\u001b[39m.\u001b[39mto_exception(e)\n\u001b[1;32m   <a href='file:///home/khoidnyds/miniconda3/envs/gnn/lib/python3.10/site-packages/tensorflow/python/framework/func_graph.py?line=1147'>1148</a>\u001b[0m   \u001b[39melse\u001b[39;00m:\n\u001b[1;32m   <a href='file:///home/khoidnyds/miniconda3/envs/gnn/lib/python3.10/site-packages/tensorflow/python/framework/func_graph.py?line=1148'>1149</a>\u001b[0m     \u001b[39mraise\u001b[39;00m\n",
      "\u001b[0;31mValueError\u001b[0m: in user code:\n\n    File \"/home/khoidnyds/miniconda3/envs/gnn/lib/python3.10/site-packages/keras/engine/training.py\", line 1801, in predict_function  *\n        return step_function(self, iterator)\n    File \"/home/khoidnyds/miniconda3/envs/gnn/lib/python3.10/site-packages/keras/engine/training.py\", line 1790, in step_function  **\n        outputs = model.distribute_strategy.run(run_step, args=(data,))\n    File \"/home/khoidnyds/miniconda3/envs/gnn/lib/python3.10/site-packages/keras/engine/training.py\", line 1783, in run_step  **\n        outputs = model.predict_step(data)\n    File \"/home/khoidnyds/miniconda3/envs/gnn/lib/python3.10/site-packages/keras/engine/training.py\", line 1751, in predict_step\n        return self(x, training=False)\n    File \"/home/khoidnyds/miniconda3/envs/gnn/lib/python3.10/site-packages/keras/utils/traceback_utils.py\", line 67, in error_handler\n        raise e.with_traceback(filtered_tb) from None\n    File \"/home/khoidnyds/miniconda3/envs/gnn/lib/python3.10/site-packages/keras/engine/input_spec.py\", line 264, in assert_input_compatibility\n        raise ValueError(f'Input {input_index} of layer \"{layer_name}\" is '\n\n    ValueError: Input 1 of layer \"model\" is incompatible with the layer: expected shape=(None, 2708), found shape=(None, 1000)\n"
     ]
    }
   ],
   "source": [
    "# Evaluate model\n",
    "X_te = X[test_mask]\n",
    "A_te = A[test_mask,:][:,test_mask]\n",
    "y_te = labels_encoded[test_mask]\n",
    "\n",
    "y_pred = model.predict([X_te, A_te], batch_size=N)\n",
    "report = classification_report(np.argmax(y_te,axis=1), np.argmax(y_pred,axis=1), target_names=classes)\n",
    "print('GCN Classification Report: \\n {}'.format(report))"
   ]
  },
  {
   "cell_type": "code",
   "execution_count": 23,
   "metadata": {},
   "outputs": [
    {
     "name": "stderr",
     "output_type": "stream",
     "text": [
      "/home/khoidnyds/miniconda3/envs/gnn/lib/python3.10/site-packages/sklearn/manifold/_t_sne.py:780: FutureWarning: The default initialization in TSNE will change from 'random' to 'pca' in 1.2.\n",
      "  warnings.warn(\n",
      "/home/khoidnyds/miniconda3/envs/gnn/lib/python3.10/site-packages/sklearn/manifold/_t_sne.py:790: FutureWarning: The default learning rate in TSNE will change from 200.0 to 'auto' in 1.2.\n",
      "  warnings.warn(\n"
     ]
    },
    {
     "ename": "KeyboardInterrupt",
     "evalue": "",
     "output_type": "error",
     "traceback": [
      "\u001b[0;31m---------------------------------------------------------------------------\u001b[0m",
      "\u001b[0;31mKeyboardInterrupt\u001b[0m                         Traceback (most recent call last)",
      "\u001b[1;32m/projects/aipmm/group1/gnn_tutorial.ipynb Cell 14'\u001b[0m in \u001b[0;36m<cell line: 7>\u001b[0;34m()\u001b[0m\n\u001b[1;32m      <a href='vscode-notebook-cell://ssh-remote%2Btinkercliffs1.arc.vt.edu/projects/aipmm/group1/gnn_tutorial.ipynb#ch0000013vscode-remote?line=2'>3</a>\u001b[0m activations \u001b[39m=\u001b[39m activation_model\u001b[39m.\u001b[39mpredict([X,A],batch_size\u001b[39m=\u001b[39mN)\n\u001b[1;32m      <a href='vscode-notebook-cell://ssh-remote%2Btinkercliffs1.arc.vt.edu/projects/aipmm/group1/gnn_tutorial.ipynb#ch0000013vscode-remote?line=4'>5</a>\u001b[0m \u001b[39m#Get t-SNE Representation\u001b[39;00m\n\u001b[1;32m      <a href='vscode-notebook-cell://ssh-remote%2Btinkercliffs1.arc.vt.edu/projects/aipmm/group1/gnn_tutorial.ipynb#ch0000013vscode-remote?line=5'>6</a>\u001b[0m \u001b[39m#get the hidden layer representation after the first GCN layer\u001b[39;00m\n\u001b[0;32m----> <a href='vscode-notebook-cell://ssh-remote%2Btinkercliffs1.arc.vt.edu/projects/aipmm/group1/gnn_tutorial.ipynb#ch0000013vscode-remote?line=6'>7</a>\u001b[0m x_tsne \u001b[39m=\u001b[39m TSNE(n_components\u001b[39m=\u001b[39;49m\u001b[39m2\u001b[39;49m)\u001b[39m.\u001b[39;49mfit_transform(activations[\u001b[39m3\u001b[39;49m])\n",
      "File \u001b[0;32m~/miniconda3/envs/gnn/lib/python3.10/site-packages/sklearn/manifold/_t_sne.py:1108\u001b[0m, in \u001b[0;36mTSNE.fit_transform\u001b[0;34m(self, X, y)\u001b[0m\n\u001b[1;32m   <a href='file:///home/khoidnyds/miniconda3/envs/gnn/lib/python3.10/site-packages/sklearn/manifold/_t_sne.py?line=1087'>1088</a>\u001b[0m \u001b[39mdef\u001b[39;00m \u001b[39mfit_transform\u001b[39m(\u001b[39mself\u001b[39m, X, y\u001b[39m=\u001b[39m\u001b[39mNone\u001b[39;00m):\n\u001b[1;32m   <a href='file:///home/khoidnyds/miniconda3/envs/gnn/lib/python3.10/site-packages/sklearn/manifold/_t_sne.py?line=1088'>1089</a>\u001b[0m     \u001b[39m\"\"\"Fit X into an embedded space and return that transformed output.\u001b[39;00m\n\u001b[1;32m   <a href='file:///home/khoidnyds/miniconda3/envs/gnn/lib/python3.10/site-packages/sklearn/manifold/_t_sne.py?line=1089'>1090</a>\u001b[0m \n\u001b[1;32m   <a href='file:///home/khoidnyds/miniconda3/envs/gnn/lib/python3.10/site-packages/sklearn/manifold/_t_sne.py?line=1090'>1091</a>\u001b[0m \u001b[39m    Parameters\u001b[39;00m\n\u001b[0;32m   (...)\u001b[0m\n\u001b[1;32m   <a href='file:///home/khoidnyds/miniconda3/envs/gnn/lib/python3.10/site-packages/sklearn/manifold/_t_sne.py?line=1105'>1106</a>\u001b[0m \u001b[39m        Embedding of the training data in low-dimensional space.\u001b[39;00m\n\u001b[1;32m   <a href='file:///home/khoidnyds/miniconda3/envs/gnn/lib/python3.10/site-packages/sklearn/manifold/_t_sne.py?line=1106'>1107</a>\u001b[0m \u001b[39m    \"\"\"\u001b[39;00m\n\u001b[0;32m-> <a href='file:///home/khoidnyds/miniconda3/envs/gnn/lib/python3.10/site-packages/sklearn/manifold/_t_sne.py?line=1107'>1108</a>\u001b[0m     embedding \u001b[39m=\u001b[39m \u001b[39mself\u001b[39;49m\u001b[39m.\u001b[39;49m_fit(X)\n\u001b[1;32m   <a href='file:///home/khoidnyds/miniconda3/envs/gnn/lib/python3.10/site-packages/sklearn/manifold/_t_sne.py?line=1108'>1109</a>\u001b[0m     \u001b[39mself\u001b[39m\u001b[39m.\u001b[39membedding_ \u001b[39m=\u001b[39m embedding\n\u001b[1;32m   <a href='file:///home/khoidnyds/miniconda3/envs/gnn/lib/python3.10/site-packages/sklearn/manifold/_t_sne.py?line=1109'>1110</a>\u001b[0m     \u001b[39mreturn\u001b[39;00m \u001b[39mself\u001b[39m\u001b[39m.\u001b[39membedding_\n",
      "File \u001b[0;32m~/miniconda3/envs/gnn/lib/python3.10/site-packages/sklearn/manifold/_t_sne.py:1004\u001b[0m, in \u001b[0;36mTSNE._fit\u001b[0;34m(self, X, skip_num_points)\u001b[0m\n\u001b[1;32m    <a href='file:///home/khoidnyds/miniconda3/envs/gnn/lib/python3.10/site-packages/sklearn/manifold/_t_sne.py?line=997'>998</a>\u001b[0m \u001b[39m# Degrees of freedom of the Student's t-distribution. The suggestion\u001b[39;00m\n\u001b[1;32m    <a href='file:///home/khoidnyds/miniconda3/envs/gnn/lib/python3.10/site-packages/sklearn/manifold/_t_sne.py?line=998'>999</a>\u001b[0m \u001b[39m# degrees_of_freedom = n_components - 1 comes from\u001b[39;00m\n\u001b[1;32m   <a href='file:///home/khoidnyds/miniconda3/envs/gnn/lib/python3.10/site-packages/sklearn/manifold/_t_sne.py?line=999'>1000</a>\u001b[0m \u001b[39m# \"Learning a Parametric Embedding by Preserving Local Structure\"\u001b[39;00m\n\u001b[1;32m   <a href='file:///home/khoidnyds/miniconda3/envs/gnn/lib/python3.10/site-packages/sklearn/manifold/_t_sne.py?line=1000'>1001</a>\u001b[0m \u001b[39m# Laurens van der Maaten, 2009.\u001b[39;00m\n\u001b[1;32m   <a href='file:///home/khoidnyds/miniconda3/envs/gnn/lib/python3.10/site-packages/sklearn/manifold/_t_sne.py?line=1001'>1002</a>\u001b[0m degrees_of_freedom \u001b[39m=\u001b[39m \u001b[39mmax\u001b[39m(\u001b[39mself\u001b[39m\u001b[39m.\u001b[39mn_components \u001b[39m-\u001b[39m \u001b[39m1\u001b[39m, \u001b[39m1\u001b[39m)\n\u001b[0;32m-> <a href='file:///home/khoidnyds/miniconda3/envs/gnn/lib/python3.10/site-packages/sklearn/manifold/_t_sne.py?line=1003'>1004</a>\u001b[0m \u001b[39mreturn\u001b[39;00m \u001b[39mself\u001b[39;49m\u001b[39m.\u001b[39;49m_tsne(\n\u001b[1;32m   <a href='file:///home/khoidnyds/miniconda3/envs/gnn/lib/python3.10/site-packages/sklearn/manifold/_t_sne.py?line=1004'>1005</a>\u001b[0m     P,\n\u001b[1;32m   <a href='file:///home/khoidnyds/miniconda3/envs/gnn/lib/python3.10/site-packages/sklearn/manifold/_t_sne.py?line=1005'>1006</a>\u001b[0m     degrees_of_freedom,\n\u001b[1;32m   <a href='file:///home/khoidnyds/miniconda3/envs/gnn/lib/python3.10/site-packages/sklearn/manifold/_t_sne.py?line=1006'>1007</a>\u001b[0m     n_samples,\n\u001b[1;32m   <a href='file:///home/khoidnyds/miniconda3/envs/gnn/lib/python3.10/site-packages/sklearn/manifold/_t_sne.py?line=1007'>1008</a>\u001b[0m     X_embedded\u001b[39m=\u001b[39;49mX_embedded,\n\u001b[1;32m   <a href='file:///home/khoidnyds/miniconda3/envs/gnn/lib/python3.10/site-packages/sklearn/manifold/_t_sne.py?line=1008'>1009</a>\u001b[0m     neighbors\u001b[39m=\u001b[39;49mneighbors_nn,\n\u001b[1;32m   <a href='file:///home/khoidnyds/miniconda3/envs/gnn/lib/python3.10/site-packages/sklearn/manifold/_t_sne.py?line=1009'>1010</a>\u001b[0m     skip_num_points\u001b[39m=\u001b[39;49mskip_num_points,\n\u001b[1;32m   <a href='file:///home/khoidnyds/miniconda3/envs/gnn/lib/python3.10/site-packages/sklearn/manifold/_t_sne.py?line=1010'>1011</a>\u001b[0m )\n",
      "File \u001b[0;32m~/miniconda3/envs/gnn/lib/python3.10/site-packages/sklearn/manifold/_t_sne.py:1072\u001b[0m, in \u001b[0;36mTSNE._tsne\u001b[0;34m(self, P, degrees_of_freedom, n_samples, X_embedded, neighbors, skip_num_points)\u001b[0m\n\u001b[1;32m   <a href='file:///home/khoidnyds/miniconda3/envs/gnn/lib/python3.10/site-packages/sklearn/manifold/_t_sne.py?line=1069'>1070</a>\u001b[0m     opt_args[\u001b[39m\"\u001b[39m\u001b[39mmomentum\u001b[39m\u001b[39m\"\u001b[39m] \u001b[39m=\u001b[39m \u001b[39m0.8\u001b[39m\n\u001b[1;32m   <a href='file:///home/khoidnyds/miniconda3/envs/gnn/lib/python3.10/site-packages/sklearn/manifold/_t_sne.py?line=1070'>1071</a>\u001b[0m     opt_args[\u001b[39m\"\u001b[39m\u001b[39mn_iter_without_progress\u001b[39m\u001b[39m\"\u001b[39m] \u001b[39m=\u001b[39m \u001b[39mself\u001b[39m\u001b[39m.\u001b[39mn_iter_without_progress\n\u001b[0;32m-> <a href='file:///home/khoidnyds/miniconda3/envs/gnn/lib/python3.10/site-packages/sklearn/manifold/_t_sne.py?line=1071'>1072</a>\u001b[0m     params, kl_divergence, it \u001b[39m=\u001b[39m _gradient_descent(obj_func, params, \u001b[39m*\u001b[39;49m\u001b[39m*\u001b[39;49mopt_args)\n\u001b[1;32m   <a href='file:///home/khoidnyds/miniconda3/envs/gnn/lib/python3.10/site-packages/sklearn/manifold/_t_sne.py?line=1073'>1074</a>\u001b[0m \u001b[39m# Save the final number of iterations\u001b[39;00m\n\u001b[1;32m   <a href='file:///home/khoidnyds/miniconda3/envs/gnn/lib/python3.10/site-packages/sklearn/manifold/_t_sne.py?line=1074'>1075</a>\u001b[0m \u001b[39mself\u001b[39m\u001b[39m.\u001b[39mn_iter_ \u001b[39m=\u001b[39m it\n",
      "File \u001b[0;32m~/miniconda3/envs/gnn/lib/python3.10/site-packages/sklearn/manifold/_t_sne.py:398\u001b[0m, in \u001b[0;36m_gradient_descent\u001b[0;34m(objective, p0, it, n_iter, n_iter_check, n_iter_without_progress, momentum, learning_rate, min_gain, min_grad_norm, verbose, args, kwargs)\u001b[0m\n\u001b[1;32m    <a href='file:///home/khoidnyds/miniconda3/envs/gnn/lib/python3.10/site-packages/sklearn/manifold/_t_sne.py?line=394'>395</a>\u001b[0m \u001b[39m# only compute the error when needed\u001b[39;00m\n\u001b[1;32m    <a href='file:///home/khoidnyds/miniconda3/envs/gnn/lib/python3.10/site-packages/sklearn/manifold/_t_sne.py?line=395'>396</a>\u001b[0m kwargs[\u001b[39m\"\u001b[39m\u001b[39mcompute_error\u001b[39m\u001b[39m\"\u001b[39m] \u001b[39m=\u001b[39m check_convergence \u001b[39mor\u001b[39;00m i \u001b[39m==\u001b[39m n_iter \u001b[39m-\u001b[39m \u001b[39m1\u001b[39m\n\u001b[0;32m--> <a href='file:///home/khoidnyds/miniconda3/envs/gnn/lib/python3.10/site-packages/sklearn/manifold/_t_sne.py?line=397'>398</a>\u001b[0m error, grad \u001b[39m=\u001b[39m objective(p, \u001b[39m*\u001b[39;49margs, \u001b[39m*\u001b[39;49m\u001b[39m*\u001b[39;49mkwargs)\n\u001b[1;32m    <a href='file:///home/khoidnyds/miniconda3/envs/gnn/lib/python3.10/site-packages/sklearn/manifold/_t_sne.py?line=398'>399</a>\u001b[0m grad_norm \u001b[39m=\u001b[39m linalg\u001b[39m.\u001b[39mnorm(grad)\n\u001b[1;32m    <a href='file:///home/khoidnyds/miniconda3/envs/gnn/lib/python3.10/site-packages/sklearn/manifold/_t_sne.py?line=400'>401</a>\u001b[0m inc \u001b[39m=\u001b[39m update \u001b[39m*\u001b[39m grad \u001b[39m<\u001b[39m \u001b[39m0.0\u001b[39m\n",
      "File \u001b[0;32m~/miniconda3/envs/gnn/lib/python3.10/site-packages/sklearn/manifold/_t_sne.py:279\u001b[0m, in \u001b[0;36m_kl_divergence_bh\u001b[0;34m(params, P, degrees_of_freedom, n_samples, n_components, angle, skip_num_points, verbose, compute_error, num_threads)\u001b[0m\n\u001b[1;32m    <a href='file:///home/khoidnyds/miniconda3/envs/gnn/lib/python3.10/site-packages/sklearn/manifold/_t_sne.py?line=275'>276</a>\u001b[0m indptr \u001b[39m=\u001b[39m P\u001b[39m.\u001b[39mindptr\u001b[39m.\u001b[39mastype(np\u001b[39m.\u001b[39mint64, copy\u001b[39m=\u001b[39m\u001b[39mFalse\u001b[39;00m)\n\u001b[1;32m    <a href='file:///home/khoidnyds/miniconda3/envs/gnn/lib/python3.10/site-packages/sklearn/manifold/_t_sne.py?line=277'>278</a>\u001b[0m grad \u001b[39m=\u001b[39m np\u001b[39m.\u001b[39mzeros(X_embedded\u001b[39m.\u001b[39mshape, dtype\u001b[39m=\u001b[39mnp\u001b[39m.\u001b[39mfloat32)\n\u001b[0;32m--> <a href='file:///home/khoidnyds/miniconda3/envs/gnn/lib/python3.10/site-packages/sklearn/manifold/_t_sne.py?line=278'>279</a>\u001b[0m error \u001b[39m=\u001b[39m _barnes_hut_tsne\u001b[39m.\u001b[39;49mgradient(\n\u001b[1;32m    <a href='file:///home/khoidnyds/miniconda3/envs/gnn/lib/python3.10/site-packages/sklearn/manifold/_t_sne.py?line=279'>280</a>\u001b[0m     val_P,\n\u001b[1;32m    <a href='file:///home/khoidnyds/miniconda3/envs/gnn/lib/python3.10/site-packages/sklearn/manifold/_t_sne.py?line=280'>281</a>\u001b[0m     X_embedded,\n\u001b[1;32m    <a href='file:///home/khoidnyds/miniconda3/envs/gnn/lib/python3.10/site-packages/sklearn/manifold/_t_sne.py?line=281'>282</a>\u001b[0m     neighbors,\n\u001b[1;32m    <a href='file:///home/khoidnyds/miniconda3/envs/gnn/lib/python3.10/site-packages/sklearn/manifold/_t_sne.py?line=282'>283</a>\u001b[0m     indptr,\n\u001b[1;32m    <a href='file:///home/khoidnyds/miniconda3/envs/gnn/lib/python3.10/site-packages/sklearn/manifold/_t_sne.py?line=283'>284</a>\u001b[0m     grad,\n\u001b[1;32m    <a href='file:///home/khoidnyds/miniconda3/envs/gnn/lib/python3.10/site-packages/sklearn/manifold/_t_sne.py?line=284'>285</a>\u001b[0m     angle,\n\u001b[1;32m    <a href='file:///home/khoidnyds/miniconda3/envs/gnn/lib/python3.10/site-packages/sklearn/manifold/_t_sne.py?line=285'>286</a>\u001b[0m     n_components,\n\u001b[1;32m    <a href='file:///home/khoidnyds/miniconda3/envs/gnn/lib/python3.10/site-packages/sklearn/manifold/_t_sne.py?line=286'>287</a>\u001b[0m     verbose,\n\u001b[1;32m    <a href='file:///home/khoidnyds/miniconda3/envs/gnn/lib/python3.10/site-packages/sklearn/manifold/_t_sne.py?line=287'>288</a>\u001b[0m     dof\u001b[39m=\u001b[39;49mdegrees_of_freedom,\n\u001b[1;32m    <a href='file:///home/khoidnyds/miniconda3/envs/gnn/lib/python3.10/site-packages/sklearn/manifold/_t_sne.py?line=288'>289</a>\u001b[0m     compute_error\u001b[39m=\u001b[39;49mcompute_error,\n\u001b[1;32m    <a href='file:///home/khoidnyds/miniconda3/envs/gnn/lib/python3.10/site-packages/sklearn/manifold/_t_sne.py?line=289'>290</a>\u001b[0m     num_threads\u001b[39m=\u001b[39;49mnum_threads,\n\u001b[1;32m    <a href='file:///home/khoidnyds/miniconda3/envs/gnn/lib/python3.10/site-packages/sklearn/manifold/_t_sne.py?line=290'>291</a>\u001b[0m )\n\u001b[1;32m    <a href='file:///home/khoidnyds/miniconda3/envs/gnn/lib/python3.10/site-packages/sklearn/manifold/_t_sne.py?line=291'>292</a>\u001b[0m c \u001b[39m=\u001b[39m \u001b[39m2.0\u001b[39m \u001b[39m*\u001b[39m (degrees_of_freedom \u001b[39m+\u001b[39m \u001b[39m1.0\u001b[39m) \u001b[39m/\u001b[39m degrees_of_freedom\n\u001b[1;32m    <a href='file:///home/khoidnyds/miniconda3/envs/gnn/lib/python3.10/site-packages/sklearn/manifold/_t_sne.py?line=292'>293</a>\u001b[0m grad \u001b[39m=\u001b[39m grad\u001b[39m.\u001b[39mravel()\n",
      "\u001b[0;31mKeyboardInterrupt\u001b[0m: "
     ]
    }
   ],
   "source": [
    "layer_outputs = [layer.output for layer in model.layers]\n",
    "activation_model = Model(inputs=model.input, outputs=layer_outputs)\n",
    "activations = activation_model.predict([X,A],batch_size=N)\n",
    "\n",
    "#Get t-SNE Representation\n",
    "#get the hidden layer representation after the first GCN layer\n",
    "x_tsne = TSNE(n_components=2).fit_transform(activations[3]) "
   ]
  },
  {
   "cell_type": "code",
   "execution_count": null,
   "metadata": {},
   "outputs": [],
   "source": [
    "def plot_tSNE(labels_encoded,x_tsne):\n",
    "    color_map = np.argmax(labels_encoded, axis=1)\n",
    "    plt.figure(figsize=(10,10))\n",
    "    for cl in range(num_classes):\n",
    "        indices = np.where(color_map==cl)\n",
    "        indices = indices[0]\n",
    "        plt.scatter(x_tsne[indices,0], x_tsne[indices, 1], label=cl)\n",
    "    plt.legend()\n",
    "    plt.show()\n",
    "    \n",
    "plot_tSNE(labels_encoded,x_tsne)"
   ]
  },
  {
   "cell_type": "code",
   "execution_count": null,
   "metadata": {},
   "outputs": [],
   "source": []
  }
 ],
 "metadata": {
  "interpreter": {
   "hash": "14d72d7136b3565fd0209a9dfde89a7fdb08bc3371a4ef323eb334098503c6fd"
  },
  "kernelspec": {
   "display_name": "Python 3.9.10 ('aarg')",
   "language": "python",
   "name": "python3"
  },
  "language_info": {
   "codemirror_mode": {
    "name": "ipython",
    "version": 3
   },
   "file_extension": ".py",
   "mimetype": "text/x-python",
   "name": "python",
   "nbconvert_exporter": "python",
   "pygments_lexer": "ipython3",
   "version": "3.10.4"
  },
  "orig_nbformat": 4
 },
 "nbformat": 4,
 "nbformat_minor": 2
}
